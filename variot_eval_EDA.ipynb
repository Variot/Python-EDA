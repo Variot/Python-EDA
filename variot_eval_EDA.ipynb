{
 "metadata": {
  "language_info": {
   "codemirror_mode": {
    "name": "ipython",
    "version": 3
   },
   "file_extension": ".py",
   "mimetype": "text/x-python",
   "name": "python",
   "nbconvert_exporter": "python",
   "pygments_lexer": "ipython3",
   "version": "3.9.5"
  },
  "orig_nbformat": 4,
  "kernelspec": {
   "name": "python3",
   "display_name": "Python 3.9.5 64-bit"
  },
  "interpreter": {
   "hash": "85a2777f1971a23460a2eb76b8b6bda4cbb9eedb816c469c8c4c4f0e092296c6"
  }
 },
 "nbformat": 4,
 "nbformat_minor": 2,
 "cells": [
  {
   "source": [
    "1) Expliquer ce qu’est un KPI (avec vos mots)? (1pt)"
   ],
   "cell_type": "markdown",
   "metadata": {}
  },
  {
   "source": [
    "Le KPI est indice de performance qui permet de suivre l'efficacité d'une action par rapport aux objectifs que l'on a défini."
   ],
   "cell_type": "markdown",
   "metadata": {}
  },
  {
   "source": [
    "2) Importer les librairies pandas et numpy (0.5pt)"
   ],
   "cell_type": "markdown",
   "metadata": {}
  },
  {
   "cell_type": "code",
   "execution_count": 13,
   "metadata": {},
   "outputs": [],
   "source": [
    "import numpy as np \n",
    "import pandas as pd\n",
    "import seaborn as sb"
   ]
  },
  {
   "source": [
    "3) Importer et le dataset ‘resto_eval.csv’ (0.5pt)"
   ],
   "cell_type": "markdown",
   "metadata": {}
  },
  {
   "cell_type": "code",
   "execution_count": 2,
   "metadata": {},
   "outputs": [],
   "source": [
    "data = pd.read_csv('DataSet/eval_data.csv');"
   ]
  },
  {
   "source": [
    "4) Afficher les 12 premières lignes du dataset (0.5pt)"
   ],
   "cell_type": "markdown",
   "metadata": {}
  },
  {
   "cell_type": "code",
   "execution_count": 3,
   "metadata": {},
   "outputs": [
    {
     "output_type": "execute_result",
     "data": {
      "text/plain": [
       "    Unnamed: 0  order_id  quantity                              item_name  \\\n",
       "0            0         1         1           Chips and Fresh Tomato Salsa   \n",
       "1            1         1         1                                   Izze   \n",
       "2            2         1         1                       Nantucket Nectar   \n",
       "3            3         1         1  Chips and Tomatillo-Green Chili Salsa   \n",
       "4            4         2         2                           Chicken Bowl   \n",
       "5            5         3         1                           Chicken Bowl   \n",
       "6            6         3         1                          Side of Chips   \n",
       "7            7         4         1                          Steak Burrito   \n",
       "8            8         4         1                       Steak Soft Tacos   \n",
       "9            9         5         1                          Steak Burrito   \n",
       "10          10         5         1                    Chips and Guacamole   \n",
       "11          11         6         1                   Chicken Crispy Tacos   \n",
       "\n",
       "                                   choice_description item_price  \n",
       "0                                                 NaN        NaN  \n",
       "1                                        [Clementine]     $3.39   \n",
       "2                                             [Apple]     $3.39   \n",
       "3                                                 NaN        NaN  \n",
       "4   [Tomatillo-Red Chili Salsa (Hot), [Black Beans...    $16.98   \n",
       "5   [Fresh Tomato Salsa (Mild), [Rice, Cheese, Sou...    $10.98   \n",
       "6                                                 NaN     $1.69   \n",
       "7   [Tomatillo Red Chili Salsa, [Fajita Vegetables...    $11.75   \n",
       "8   [Tomatillo Green Chili Salsa, [Pinto Beans, Ch...     $9.25   \n",
       "9   [Fresh Tomato Salsa, [Rice, Black Beans, Pinto...     $9.25   \n",
       "10                                                NaN     $4.45   \n",
       "11  [Roasted Chili Corn Salsa, [Fajita Vegetables,...     $8.75   "
      ],
      "text/html": "<div>\n<style scoped>\n    .dataframe tbody tr th:only-of-type {\n        vertical-align: middle;\n    }\n\n    .dataframe tbody tr th {\n        vertical-align: top;\n    }\n\n    .dataframe thead th {\n        text-align: right;\n    }\n</style>\n<table border=\"1\" class=\"dataframe\">\n  <thead>\n    <tr style=\"text-align: right;\">\n      <th></th>\n      <th>Unnamed: 0</th>\n      <th>order_id</th>\n      <th>quantity</th>\n      <th>item_name</th>\n      <th>choice_description</th>\n      <th>item_price</th>\n    </tr>\n  </thead>\n  <tbody>\n    <tr>\n      <th>0</th>\n      <td>0</td>\n      <td>1</td>\n      <td>1</td>\n      <td>Chips and Fresh Tomato Salsa</td>\n      <td>NaN</td>\n      <td>NaN</td>\n    </tr>\n    <tr>\n      <th>1</th>\n      <td>1</td>\n      <td>1</td>\n      <td>1</td>\n      <td>Izze</td>\n      <td>[Clementine]</td>\n      <td>$3.39</td>\n    </tr>\n    <tr>\n      <th>2</th>\n      <td>2</td>\n      <td>1</td>\n      <td>1</td>\n      <td>Nantucket Nectar</td>\n      <td>[Apple]</td>\n      <td>$3.39</td>\n    </tr>\n    <tr>\n      <th>3</th>\n      <td>3</td>\n      <td>1</td>\n      <td>1</td>\n      <td>Chips and Tomatillo-Green Chili Salsa</td>\n      <td>NaN</td>\n      <td>NaN</td>\n    </tr>\n    <tr>\n      <th>4</th>\n      <td>4</td>\n      <td>2</td>\n      <td>2</td>\n      <td>Chicken Bowl</td>\n      <td>[Tomatillo-Red Chili Salsa (Hot), [Black Beans...</td>\n      <td>$16.98</td>\n    </tr>\n    <tr>\n      <th>5</th>\n      <td>5</td>\n      <td>3</td>\n      <td>1</td>\n      <td>Chicken Bowl</td>\n      <td>[Fresh Tomato Salsa (Mild), [Rice, Cheese, Sou...</td>\n      <td>$10.98</td>\n    </tr>\n    <tr>\n      <th>6</th>\n      <td>6</td>\n      <td>3</td>\n      <td>1</td>\n      <td>Side of Chips</td>\n      <td>NaN</td>\n      <td>$1.69</td>\n    </tr>\n    <tr>\n      <th>7</th>\n      <td>7</td>\n      <td>4</td>\n      <td>1</td>\n      <td>Steak Burrito</td>\n      <td>[Tomatillo Red Chili Salsa, [Fajita Vegetables...</td>\n      <td>$11.75</td>\n    </tr>\n    <tr>\n      <th>8</th>\n      <td>8</td>\n      <td>4</td>\n      <td>1</td>\n      <td>Steak Soft Tacos</td>\n      <td>[Tomatillo Green Chili Salsa, [Pinto Beans, Ch...</td>\n      <td>$9.25</td>\n    </tr>\n    <tr>\n      <th>9</th>\n      <td>9</td>\n      <td>5</td>\n      <td>1</td>\n      <td>Steak Burrito</td>\n      <td>[Fresh Tomato Salsa, [Rice, Black Beans, Pinto...</td>\n      <td>$9.25</td>\n    </tr>\n    <tr>\n      <th>10</th>\n      <td>10</td>\n      <td>5</td>\n      <td>1</td>\n      <td>Chips and Guacamole</td>\n      <td>NaN</td>\n      <td>$4.45</td>\n    </tr>\n    <tr>\n      <th>11</th>\n      <td>11</td>\n      <td>6</td>\n      <td>1</td>\n      <td>Chicken Crispy Tacos</td>\n      <td>[Roasted Chili Corn Salsa, [Fajita Vegetables,...</td>\n      <td>$8.75</td>\n    </tr>\n  </tbody>\n</table>\n</div>"
     },
     "metadata": {},
     "execution_count": 3
    }
   ],
   "source": [
    "data.head(12)"
   ]
  },
  {
   "source": [
    "5) Afficher les dimensions du dataset (sa taille)? (0.5pt)"
   ],
   "cell_type": "markdown",
   "metadata": {}
  },
  {
   "cell_type": "code",
   "execution_count": 7,
   "metadata": {},
   "outputs": [
    {
     "output_type": "execute_result",
     "data": {
      "text/plain": [
       "27732"
      ]
     },
     "metadata": {},
     "execution_count": 7
    }
   ],
   "source": [
    "data.size"
   ]
  },
  {
   "source": [
    "6) Afficher, et décrire les colonnes de notre dataset (0.5pt)"
   ],
   "cell_type": "markdown",
   "metadata": {}
  },
  {
   "cell_type": "code",
   "execution_count": 9,
   "metadata": {},
   "outputs": [
    {
     "output_type": "stream",
     "name": "stdout",
     "text": [
      "<class 'pandas.core.frame.DataFrame'>\nRangeIndex: 4622 entries, 0 to 4621\nData columns (total 6 columns):\n #   Column              Non-Null Count  Dtype \n---  ------              --------------  ----- \n 0   Unnamed: 0          4622 non-null   int64 \n 1   order_id            4622 non-null   int64 \n 2   quantity            4622 non-null   int64 \n 3   item_name           4622 non-null   object\n 4   choice_description  3376 non-null   object\n 5   item_price          4522 non-null   object\ndtypes: int64(3), object(3)\nmemory usage: 216.8+ KB\n"
     ]
    }
   ],
   "source": [
    "data.info()"
   ]
  },
  {
   "source": [
    "7) Afficher les statistiques descriptives du dataset (0.5pt)"
   ],
   "cell_type": "markdown",
   "metadata": {}
  },
  {
   "cell_type": "code",
   "execution_count": 10,
   "metadata": {},
   "outputs": [
    {
     "output_type": "execute_result",
     "data": {
      "text/plain": [
       "        Unnamed: 0     order_id     quantity\n",
       "count  4622.000000  4622.000000  4622.000000\n",
       "mean   2310.500000   927.254868     1.075725\n",
       "std    1334.400802   528.890796     0.410186\n",
       "min       0.000000     1.000000     1.000000\n",
       "25%    1155.250000   477.250000     1.000000\n",
       "50%    2310.500000   926.000000     1.000000\n",
       "75%    3465.750000  1393.000000     1.000000\n",
       "max    4621.000000  1834.000000    15.000000"
      ],
      "text/html": "<div>\n<style scoped>\n    .dataframe tbody tr th:only-of-type {\n        vertical-align: middle;\n    }\n\n    .dataframe tbody tr th {\n        vertical-align: top;\n    }\n\n    .dataframe thead th {\n        text-align: right;\n    }\n</style>\n<table border=\"1\" class=\"dataframe\">\n  <thead>\n    <tr style=\"text-align: right;\">\n      <th></th>\n      <th>Unnamed: 0</th>\n      <th>order_id</th>\n      <th>quantity</th>\n    </tr>\n  </thead>\n  <tbody>\n    <tr>\n      <th>count</th>\n      <td>4622.000000</td>\n      <td>4622.000000</td>\n      <td>4622.000000</td>\n    </tr>\n    <tr>\n      <th>mean</th>\n      <td>2310.500000</td>\n      <td>927.254868</td>\n      <td>1.075725</td>\n    </tr>\n    <tr>\n      <th>std</th>\n      <td>1334.400802</td>\n      <td>528.890796</td>\n      <td>0.410186</td>\n    </tr>\n    <tr>\n      <th>min</th>\n      <td>0.000000</td>\n      <td>1.000000</td>\n      <td>1.000000</td>\n    </tr>\n    <tr>\n      <th>25%</th>\n      <td>1155.250000</td>\n      <td>477.250000</td>\n      <td>1.000000</td>\n    </tr>\n    <tr>\n      <th>50%</th>\n      <td>2310.500000</td>\n      <td>926.000000</td>\n      <td>1.000000</td>\n    </tr>\n    <tr>\n      <th>75%</th>\n      <td>3465.750000</td>\n      <td>1393.000000</td>\n      <td>1.000000</td>\n    </tr>\n    <tr>\n      <th>max</th>\n      <td>4621.000000</td>\n      <td>1834.000000</td>\n      <td>15.000000</td>\n    </tr>\n  </tbody>\n</table>\n</div>"
     },
     "metadata": {},
     "execution_count": 10
    }
   ],
   "source": [
    "data.describe()"
   ]
  },
  {
   "source": [
    "8) Quel est l’item le plus commandé ? (1pt)"
   ],
   "cell_type": "markdown",
   "metadata": {}
  },
  {
   "source": [
    "data.groupby(['item_name']).agg(['sum'])['quantity'].sort_values(['sum'])"
   ],
   "cell_type": "code",
   "metadata": {},
   "execution_count": 32,
   "outputs": [
    {
     "output_type": "execute_result",
     "data": {
      "text/plain": [
       "                                       sum\n",
       "item_name                                 \n",
       "Carnitas Salad                           1\n",
       "Veggie Crispy Tacos                      1\n",
       "Chips and Mild Fresh Tomato Salsa        1\n",
       "Crispy Tacos                             2\n",
       "Salad                                    2\n",
       "Bowl                                     4\n",
       "Steak Salad                              4\n",
       "Veggie Salad                             6\n",
       "Carnitas Salad Bowl                      6\n",
       "Burrito                                  6\n",
       "Carnitas Crispy Tacos                    8\n",
       "Veggie Soft Tacos                        8\n",
       "Chicken Salad                            9\n",
       "Barbacoa Salad Bowl                     10\n",
       "Barbacoa Crispy Tacos                   12\n",
       "Veggie Salad Bowl                       18\n",
       "Chips and Roasted Chili-Corn Salsa      18\n",
       "Izze                                    20\n",
       "Chips and Roasted Chili Corn Salsa      23\n",
       "Barbacoa Soft Tacos                     25\n",
       "Chips and Tomatillo-Red Chili Salsa     25\n",
       "Nantucket Nectar                        29\n",
       "Steak Salad Bowl                        31\n",
       "Chips and Tomatillo-Green Chili Salsa   33\n",
       "Steak Crispy Tacos                      36\n",
       "Carnitas Soft Tacos                     40\n",
       "Chips and Tomatillo Green Chili Salsa   45\n",
       "Chicken Crispy Tacos                    50\n",
       "Chips and Tomatillo Red Chili Salsa     50\n",
       "6 Pack Soft Drink                       55\n",
       "Steak Soft Tacos                        56\n",
       "Carnitas Burrito                        60\n",
       "Barbacoa Bowl                           66\n",
       "Carnitas Bowl                           71\n",
       "Veggie Bowl                             87\n",
       "Barbacoa Burrito                        91\n",
       "Veggie Burrito                          97\n",
       "Side of Chips                          110\n",
       "Chicken Soft Tacos                     120\n",
       "Chicken Salad Bowl                     123\n",
       "Canned Soda                            126\n",
       "Chips and Fresh Tomato Salsa           130\n",
       "Bottled Water                          211\n",
       "Steak Bowl                             221\n",
       "Chips                                  230\n",
       "Canned Soft Drink                      351\n",
       "Steak Burrito                          386\n",
       "Chips and Guacamole                    506\n",
       "Chicken Burrito                        591\n",
       "Chicken Bowl                           761"
      ],
      "text/html": "<div>\n<style scoped>\n    .dataframe tbody tr th:only-of-type {\n        vertical-align: middle;\n    }\n\n    .dataframe tbody tr th {\n        vertical-align: top;\n    }\n\n    .dataframe thead th {\n        text-align: right;\n    }\n</style>\n<table border=\"1\" class=\"dataframe\">\n  <thead>\n    <tr style=\"text-align: right;\">\n      <th></th>\n      <th>sum</th>\n    </tr>\n    <tr>\n      <th>item_name</th>\n      <th></th>\n    </tr>\n  </thead>\n  <tbody>\n    <tr>\n      <th>Carnitas Salad</th>\n      <td>1</td>\n    </tr>\n    <tr>\n      <th>Veggie Crispy Tacos</th>\n      <td>1</td>\n    </tr>\n    <tr>\n      <th>Chips and Mild Fresh Tomato Salsa</th>\n      <td>1</td>\n    </tr>\n    <tr>\n      <th>Crispy Tacos</th>\n      <td>2</td>\n    </tr>\n    <tr>\n      <th>Salad</th>\n      <td>2</td>\n    </tr>\n    <tr>\n      <th>Bowl</th>\n      <td>4</td>\n    </tr>\n    <tr>\n      <th>Steak Salad</th>\n      <td>4</td>\n    </tr>\n    <tr>\n      <th>Veggie Salad</th>\n      <td>6</td>\n    </tr>\n    <tr>\n      <th>Carnitas Salad Bowl</th>\n      <td>6</td>\n    </tr>\n    <tr>\n      <th>Burrito</th>\n      <td>6</td>\n    </tr>\n    <tr>\n      <th>Carnitas Crispy Tacos</th>\n      <td>8</td>\n    </tr>\n    <tr>\n      <th>Veggie Soft Tacos</th>\n      <td>8</td>\n    </tr>\n    <tr>\n      <th>Chicken Salad</th>\n      <td>9</td>\n    </tr>\n    <tr>\n      <th>Barbacoa Salad Bowl</th>\n      <td>10</td>\n    </tr>\n    <tr>\n      <th>Barbacoa Crispy Tacos</th>\n      <td>12</td>\n    </tr>\n    <tr>\n      <th>Veggie Salad Bowl</th>\n      <td>18</td>\n    </tr>\n    <tr>\n      <th>Chips and Roasted Chili-Corn Salsa</th>\n      <td>18</td>\n    </tr>\n    <tr>\n      <th>Izze</th>\n      <td>20</td>\n    </tr>\n    <tr>\n      <th>Chips and Roasted Chili Corn Salsa</th>\n      <td>23</td>\n    </tr>\n    <tr>\n      <th>Barbacoa Soft Tacos</th>\n      <td>25</td>\n    </tr>\n    <tr>\n      <th>Chips and Tomatillo-Red Chili Salsa</th>\n      <td>25</td>\n    </tr>\n    <tr>\n      <th>Nantucket Nectar</th>\n      <td>29</td>\n    </tr>\n    <tr>\n      <th>Steak Salad Bowl</th>\n      <td>31</td>\n    </tr>\n    <tr>\n      <th>Chips and Tomatillo-Green Chili Salsa</th>\n      <td>33</td>\n    </tr>\n    <tr>\n      <th>Steak Crispy Tacos</th>\n      <td>36</td>\n    </tr>\n    <tr>\n      <th>Carnitas Soft Tacos</th>\n      <td>40</td>\n    </tr>\n    <tr>\n      <th>Chips and Tomatillo Green Chili Salsa</th>\n      <td>45</td>\n    </tr>\n    <tr>\n      <th>Chicken Crispy Tacos</th>\n      <td>50</td>\n    </tr>\n    <tr>\n      <th>Chips and Tomatillo Red Chili Salsa</th>\n      <td>50</td>\n    </tr>\n    <tr>\n      <th>6 Pack Soft Drink</th>\n      <td>55</td>\n    </tr>\n    <tr>\n      <th>Steak Soft Tacos</th>\n      <td>56</td>\n    </tr>\n    <tr>\n      <th>Carnitas Burrito</th>\n      <td>60</td>\n    </tr>\n    <tr>\n      <th>Barbacoa Bowl</th>\n      <td>66</td>\n    </tr>\n    <tr>\n      <th>Carnitas Bowl</th>\n      <td>71</td>\n    </tr>\n    <tr>\n      <th>Veggie Bowl</th>\n      <td>87</td>\n    </tr>\n    <tr>\n      <th>Barbacoa Burrito</th>\n      <td>91</td>\n    </tr>\n    <tr>\n      <th>Veggie Burrito</th>\n      <td>97</td>\n    </tr>\n    <tr>\n      <th>Side of Chips</th>\n      <td>110</td>\n    </tr>\n    <tr>\n      <th>Chicken Soft Tacos</th>\n      <td>120</td>\n    </tr>\n    <tr>\n      <th>Chicken Salad Bowl</th>\n      <td>123</td>\n    </tr>\n    <tr>\n      <th>Canned Soda</th>\n      <td>126</td>\n    </tr>\n    <tr>\n      <th>Chips and Fresh Tomato Salsa</th>\n      <td>130</td>\n    </tr>\n    <tr>\n      <th>Bottled Water</th>\n      <td>211</td>\n    </tr>\n    <tr>\n      <th>Steak Bowl</th>\n      <td>221</td>\n    </tr>\n    <tr>\n      <th>Chips</th>\n      <td>230</td>\n    </tr>\n    <tr>\n      <th>Canned Soft Drink</th>\n      <td>351</td>\n    </tr>\n    <tr>\n      <th>Steak Burrito</th>\n      <td>386</td>\n    </tr>\n    <tr>\n      <th>Chips and Guacamole</th>\n      <td>506</td>\n    </tr>\n    <tr>\n      <th>Chicken Burrito</th>\n      <td>591</td>\n    </tr>\n    <tr>\n      <th>Chicken Bowl</th>\n      <td>761</td>\n    </tr>\n  </tbody>\n</table>\n</div>"
     },
     "metadata": {},
     "execution_count": 32
    }
   ]
  },
  {
   "source": [
    "Le plat le plus commandé est le Chicken Bowl"
   ],
   "cell_type": "markdown",
   "metadata": {}
  },
  {
   "source": [
    "9) Combien d’items ont été commandés au total ? (1pt)"
   ],
   "cell_type": "markdown",
   "metadata": {}
  },
  {
   "cell_type": "code",
   "execution_count": 34,
   "metadata": {},
   "outputs": [
    {
     "output_type": "execute_result",
     "data": {
      "text/plain": [
       "sum    4972\n",
       "Name: quantity, dtype: int64"
      ]
     },
     "metadata": {},
     "execution_count": 34
    }
   ],
   "source": [
    "data['quantity'].agg(['sum'])"
   ]
  },
  {
   "source": [
    "4972 items ont été commandés"
   ],
   "cell_type": "markdown",
   "metadata": {}
  },
  {
   "cell_type": "code",
   "execution_count": null,
   "metadata": {},
   "outputs": [],
   "source": [
    "10)Combien de chiffre d’affaire à realisé la société ? (2pt)"
   ]
  },
  {
   "cell_type": "code",
   "execution_count": 45,
   "metadata": {},
   "outputs": [
    {
     "output_type": "stream",
     "name": "stderr",
     "text": [
      "<ipython-input-45-c2a603cc6688>:1: FutureWarning: The default value of regex will change from True to False in a future version. In addition, single character regular expressions will*not* be treated as literal strings when regex=True.\n  data['item_price'] =  data['item_price'].str.replace('$','')\n"
     ]
    }
   ],
   "source": [
    "data['item_price'] =  data['item_price'].str.replace('$','')"
   ]
  },
  {
   "cell_type": "code",
   "execution_count": 46,
   "metadata": {},
   "outputs": [],
   "source": [
    "data['item_price'] =  data['item_price'].astype('float64')"
   ]
  },
  {
   "cell_type": "code",
   "execution_count": 53,
   "metadata": {},
   "outputs": [],
   "source": [
    "data = data.assign(Tprice = data['quantity']*data['item_price'])"
   ]
  },
  {
   "cell_type": "code",
   "execution_count": 56,
   "metadata": {},
   "outputs": [
    {
     "output_type": "execute_result",
     "data": {
      "text/plain": [
       "38998.020000000004"
      ]
     },
     "metadata": {},
     "execution_count": 56
    }
   ],
   "source": [
    "data['Tprice'].sum()"
   ]
  },
  {
   "source": [
    "Le CA du restaurant est $38998,02"
   ],
   "cell_type": "markdown",
   "metadata": {}
  },
  {
   "source": [
    "11)Quel est le revenu moyen par commande ? (2pt)"
   ],
   "cell_type": "markdown",
   "metadata": {}
  },
  {
   "cell_type": "code",
   "execution_count": 58,
   "metadata": {},
   "outputs": [
    {
     "output_type": "execute_result",
     "data": {
      "text/plain": [
       "8.624064573197701"
      ]
     },
     "metadata": {},
     "execution_count": 58
    }
   ],
   "source": [
    "data['Tprice'].mean()"
   ]
  },
  {
   "source": [
    "Le prix moyen d'une commande est %8,62"
   ],
   "cell_type": "markdown",
   "metadata": {}
  }
 ]
}